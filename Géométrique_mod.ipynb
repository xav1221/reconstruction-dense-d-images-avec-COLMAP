{
  "nbformat": 4,
  "nbformat_minor": 0,
  "metadata": {
    "colab": {
      "provenance": [],
      "machine_shape": "hm",
      "gpuType": "T4",
      "mount_file_id": "1B7-nB6d8tMvypCdeC7IbIUSRL59sknY0",
      "authorship_tag": "ABX9TyNxBYaZxd+X7UavoUXZcMRc",
      "include_colab_link": true
    },
    "kernelspec": {
      "name": "python3",
      "display_name": "Python 3"
    },
    "language_info": {
      "name": "python"
    },
    "accelerator": "GPU"
  },
  "cells": [
    {
      "cell_type": "markdown",
      "metadata": {
        "id": "view-in-github",
        "colab_type": "text"
      },
      "source": [
        "<a href=\"https://colab.research.google.com/github/xav1221/reconstruction-dense-d-images-avec-COLMAP/blob/main/G%C3%A9om%C3%A9trique_mod.ipynb\" target=\"_parent\"><img src=\"https://colab.research.google.com/assets/colab-badge.svg\" alt=\"Open In Colab\"/></a>"
      ]
    },
    {
      "cell_type": "code",
      "execution_count": null,
      "metadata": {
        "id": "MF6TDuJz53B7",
        "colab": {
          "base_uri": "https://localhost:8080/"
        },
        "outputId": "63ff91b5-4226-4937-fd3c-eb3908cf3826"
      },
      "outputs": [
        {
          "output_type": "stream",
          "name": "stdout",
          "text": [
            "Drive already mounted at /content/drive; to attempt to forcibly remount, call drive.mount(\"/content/drive\", force_remount=True).\n"
          ]
        }
      ],
      "source": [
        "from google.colab import drive\n",
        "drive.mount('/content/drive')"
      ]
    },
    {
      "cell_type": "code",
      "source": [
        "!sudo apt-get update -qq\n",
        "!sudo apt-get install -y wget git cmake build-essential \\\n",
        "    libboost-all-dev libeigen3-dev libflann-dev libsuitesparse-dev \\\n",
        "    qtbase5-dev libqt5svg5-dev freeglut3-dev libglew-dev \\\n",
        "    libatlas-base-dev libproj-dev libprotobuf-dev protobuf-compiler \\\n",
        "    libgoogle-glog-dev libgflags-dev \\\n",
        "    ninja-build libjpeg-dev libpng-dev libtiff-dev"
      ],
      "metadata": {
        "id": "o9ZHsfQOE3DX"
      },
      "execution_count": null,
      "outputs": []
    },
    {
      "cell_type": "code",
      "source": [
        "!nvidia-smi\n"
      ],
      "metadata": {
        "id": "WCy-S2mcE3ZR"
      },
      "execution_count": null,
      "outputs": []
    },
    {
      "cell_type": "code",
      "source": [
        "%cd /content\n",
        "!git clone https://github.com/colmap/colmap.git\n",
        "%cd colmap"
      ],
      "metadata": {
        "id": "Fly8XVwFE33j"
      },
      "execution_count": null,
      "outputs": []
    },
    {
      "cell_type": "code",
      "source": [
        "!mkdir build\n",
        "%cd build"
      ],
      "metadata": {
        "id": "2SXVBtWBE4Kf"
      },
      "execution_count": null,
      "outputs": []
    },
    {
      "cell_type": "markdown",
      "source": [
        "# ERR"
      ],
      "metadata": {
        "id": "Rn0q7ir8Ggkt"
      }
    },
    {
      "cell_type": "code",
      "source": [
        "!cmake .. \\\n",
        "    -DCMAKE_BUILD_TYPE=Release \\\n",
        "    -DBUILD_CUDA=ON \\\n",
        "    -DCUDA_ARCH=Auto \\\n",
        "    -DCUDA_NVCC_FLAGS=\"--expt-relaxed-constexpr\" \\\n",
        "    -DBUILD_EXAMPLES=OFF \\\n",
        "    -DBUILD_TESTS=OFF \\\n",
        "    -DGUI_ENABLED=OFF \\\n",
        "    -DCMAKE_INSTALL_PREFIX=/usr/local"
      ],
      "metadata": {
        "id": "ayWx3otEE4Z3"
      },
      "execution_count": null,
      "outputs": []
    },
    {
      "cell_type": "code",
      "source": [
        "!sudo apt-get update -qq\n",
        "!sudo apt-get install -y libceres-dev"
      ],
      "metadata": {
        "id": "7vrw0sgVE4z4"
      },
      "execution_count": null,
      "outputs": []
    },
    {
      "cell_type": "code",
      "source": [
        "%cd /content\n",
        "!git clone https://github.com/ceres-solver/ceres-solver.git\n",
        "!cd ceres-solver"
      ],
      "metadata": {
        "id": "tjeff6_KE5Ql"
      },
      "execution_count": null,
      "outputs": []
    },
    {
      "cell_type": "markdown",
      "source": [
        "# err"
      ],
      "metadata": {
        "id": "21V7nw1yG2ee"
      }
    },
    {
      "cell_type": "code",
      "source": [
        "!mkdir build\n",
        "!cd build\n",
        "!cmake .. -DBUILD_SHARED_LIBS=ON -DBUILD_EXAMPLES=OFF -DBUILD_TESTING=OFF \\\n",
        "    -DCMAKE_INSTALL_PREFIX=/usr/local\n",
        "!make -j8\n",
        "!sudo make install"
      ],
      "metadata": {
        "id": "RmfOyfjVGy4s"
      },
      "execution_count": null,
      "outputs": []
    },
    {
      "cell_type": "code",
      "source": [
        "!sudo apt-get update\n",
        "!sudo apt-get install -y libabsl-dev"
      ],
      "metadata": {
        "id": "u-hXJQMQHCo-"
      },
      "execution_count": null,
      "outputs": []
    },
    {
      "cell_type": "markdown",
      "source": [
        "# err"
      ],
      "metadata": {
        "id": "eHbTQeYeHjay"
      }
    },
    {
      "cell_type": "code",
      "source": [
        "!cd /content/ceres-solver/build\n",
        "\n",
        "!cmake .. -DBUILD_SHARED_LIBS=ON -DBUILD_EXAMPLES=OFF -DBUILD_TESTING=OFF \\\n",
        "    -DCMAKE_INSTALL_PREFIX=/usr/local\n",
        "\n",
        "!make -j8\n",
        "!sudo make install"
      ],
      "metadata": {
        "id": "oU43HB3RHZIc"
      },
      "execution_count": null,
      "outputs": []
    },
    {
      "cell_type": "code",
      "source": [
        "!sudo apt-get remove --purge libabsl-dev libabsl20210324"
      ],
      "metadata": {
        "id": "RcH8KBT0HlxI"
      },
      "execution_count": null,
      "outputs": []
    },
    {
      "cell_type": "code",
      "source": [
        "!git clone https://github.com/abseil/abseil-cpp.git\n",
        "!cd abseil-cpp\n",
        "!git checkout latest\n",
        "!mkdir build && cd build\n",
        "!cmake .. -DCMAKE_INSTALL_PREFIX=/usr/local -DCMAKE_POSITION_INDEPENDENT_CODE=ON\n",
        "!make -j8\n",
        "!sudo make install"
      ],
      "metadata": {
        "id": "t0nayMfQHp_j"
      },
      "execution_count": null,
      "outputs": []
    },
    {
      "cell_type": "code",
      "source": [
        "!cd /content\n",
        "!rm -rf ceres-solver\n",
        "!git clone https://github.com/ceres-solver/ceres-solver.git\n",
        "!cd ceres-solver"
      ],
      "metadata": {
        "id": "Z4Z7wrL4HqWK"
      },
      "execution_count": null,
      "outputs": []
    },
    {
      "cell_type": "code",
      "source": [
        "!git checkout tags/2.2.0"
      ],
      "metadata": {
        "id": "cJf131UAIDn8"
      },
      "execution_count": null,
      "outputs": []
    },
    {
      "cell_type": "code",
      "source": [
        "!mkdir build && cd build\n",
        "!cmake .. -DBUILD_SHARED_LIBS=ON -DBUILD_EXAMPLES=OFF -DBUILD_TESTING=OFF \\\n",
        "    -DCMAKE_INSTALL_PREFIX=/usr/local\n",
        "!make -j8\n",
        "!sudo make install"
      ],
      "metadata": {
        "id": "eefpVHHoIDfS"
      },
      "execution_count": null,
      "outputs": []
    },
    {
      "cell_type": "code",
      "source": [
        "!cd /content\n",
        "!rm -rf colmap\n",
        "!git clone https://github.com/colmap/colmap.git\n",
        "!cd colmap\n",
        "!mkdir build && cd build"
      ],
      "metadata": {
        "id": "lNcup-xqIDVF"
      },
      "execution_count": null,
      "outputs": []
    },
    {
      "cell_type": "markdown",
      "source": [
        "# err"
      ],
      "metadata": {
        "id": "QF3u8v3rJrQl"
      }
    },
    {
      "cell_type": "code",
      "source": [
        "cmake .. \\\n",
        "  -DCMAKE_BUILD_TYPE=Release \\\n",
        "  -DBUILD_CUDA=ON \\\n",
        "  -DCUDA_ARCH=Auto \\\n",
        "  -DCUDA_NVCC_FLAGS=\"--expt-relaxed-constexpr\" \\\n",
        "  -DBUILD_EXAMPLES=OFF \\\n",
        "  -DBUILD_TESTS=OFF \\\n",
        "  -DGUI_ENABLED=OFF \\\n",
        "  -DCMAKE_PREFIX_PATH=\"/usr/local\" \\\n",
        "  -DCMAKE_INSTALL_PREFIX=\"/usr/local\"\n",
        "\n",
        "!make -j8\n",
        "!sudo make install"
      ],
      "metadata": {
        "id": "IruW_ygvJYZC"
      },
      "execution_count": null,
      "outputs": []
    },
    {
      "cell_type": "code",
      "source": [
        "!sudo apt-get update\n",
        "!sudo apt-get install -y libcgal-dev"
      ],
      "metadata": {
        "id": "0t_9QGX5JYP1"
      },
      "execution_count": null,
      "outputs": []
    },
    {
      "cell_type": "markdown",
      "source": [
        "#err"
      ],
      "metadata": {
        "id": "LVJw9TxXKC-c"
      }
    },
    {
      "cell_type": "code",
      "source": [
        "!cd /content/colmap/build\n",
        "!cmake .. \\\n",
        "  -DCMAKE_BUILD_TYPE=Release \\\n",
        "  -DBUILD_CUDA=ON \\\n",
        "  -DCUDA_ARCH=Auto \\\n",
        "  -DCUDA_NVCC_FLAGS=\"--expt-relaxed-constexpr\" \\\n",
        "  -DBUILD_EXAMPLES=OFF \\\n",
        "  -DBUILD_TESTS=OFF \\\n",
        "  -DGUI_ENABLED=OFF \\\n",
        "  -DCMAKE_PREFIX_PATH=\"/usr/local\" \\\n",
        "  -DCMAKE_INSTALL_PREFIX=\"/usr/local\"\n",
        "!make -j8\n",
        "!sudo make install"
      ],
      "metadata": {
        "id": "GRFOI_19JYHv"
      },
      "execution_count": null,
      "outputs": []
    },
    {
      "cell_type": "code",
      "source": [
        "!sudo apt-get update\n",
        "!sudo apt-get install -y libfreeimage-dev"
      ],
      "metadata": {
        "id": "bDUEJJg2JX-2"
      },
      "execution_count": null,
      "outputs": []
    },
    {
      "cell_type": "code",
      "source": [
        "!sudo apt-get install -y libmetis-dev"
      ],
      "metadata": {
        "id": "Naq0fjIdJx_Y"
      },
      "execution_count": null,
      "outputs": []
    },
    {
      "cell_type": "code",
      "source": [
        "!cd /content/colmap/build"
      ],
      "metadata": {
        "id": "iMEezUlNJx6I"
      },
      "execution_count": null,
      "outputs": []
    },
    {
      "cell_type": "code",
      "source": [
        "!cmake .. \\\n",
        "  -DCMAKE_BUILD_TYPE=Release \\\n",
        "  -DBUILD_CUDA=ON \\\n",
        "  -DCUDA_ARCH=Auto \\\n",
        "  -DCUDA_NVCC_FLAGS=\"--expt-relaxed-constexpr\" \\\n",
        "  -DBUILD_EXAMPLES=OFF \\\n",
        "  -DBUILD_TESTS=OFF \\\n",
        "  -DGUI_ENABLED=OFF \\\n",
        "  -DCMAKE_PREFIX_PATH=\"/usr/local\" \\\n",
        "  -DCMAKE_INSTALL_PREFIX=\"/usr/local\""
      ],
      "metadata": {
        "id": "Yw1AvNyHJxxp"
      },
      "execution_count": null,
      "outputs": []
    },
    {
      "cell_type": "code",
      "source": [
        "!make -j8\n",
        "!sudo make install"
      ],
      "metadata": {
        "id": "fgn0eF-WMuHH"
      },
      "execution_count": null,
      "outputs": []
    },
    {
      "cell_type": "code",
      "source": [],
      "metadata": {
        "id": "W1Rul4-sMt9m"
      },
      "execution_count": null,
      "outputs": []
    },
    {
      "cell_type": "code",
      "source": [
        "!colmap help"
      ],
      "metadata": {
        "id": "dWz6jZ5NMt3h"
      },
      "execution_count": null,
      "outputs": []
    },
    {
      "cell_type": "markdown",
      "source": [
        "#err"
      ],
      "metadata": {
        "id": "t3NsyFJTOpRT"
      }
    },
    {
      "cell_type": "code",
      "source": [
        "!colmap feature_extractor \\\n",
        "    --database_path path/to/database.db \\\n",
        "    --image_path path/to/images \\\n",
        "    [options...]"
      ],
      "metadata": {
        "id": "H6957_aHMtz6"
      },
      "execution_count": null,
      "outputs": []
    },
    {
      "cell_type": "markdown",
      "source": [
        "#Création de la base de données COLMAP"
      ],
      "metadata": {
        "id": "fVea_khWXfvH"
      }
    },
    {
      "cell_type": "code",
      "source": [
        "!colmap database_creator \\\n",
        "    --database_path /content/path_to_your.db"
      ],
      "metadata": {
        "id": "gM9CVij3OAHm"
      },
      "execution_count": null,
      "outputs": []
    },
    {
      "cell_type": "markdown",
      "source": [
        "err"
      ],
      "metadata": {
        "id": "gdS1KeahOoaq"
      }
    },
    {
      "cell_type": "code",
      "source": [
        "!colmap feature_extractor \\\n",
        "    --database_path /content/path_to_your.db \\\n",
        "    --image_path /content/path_to_images \\\n",
        "    [options...]"
      ],
      "metadata": {
        "id": "Hi2T24ewN__b"
      },
      "execution_count": null,
      "outputs": []
    },
    {
      "cell_type": "code",
      "source": [
        "!mkdir -p /content/images"
      ],
      "metadata": {
        "id": "hwzWpRDXN_2X"
      },
      "execution_count": null,
      "outputs": []
    },
    {
      "cell_type": "code",
      "source": [
        "!mkdir -p /content/my_colmap_data"
      ],
      "metadata": {
        "id": "rkyqdpuWOwcP"
      },
      "execution_count": null,
      "outputs": []
    },
    {
      "cell_type": "markdown",
      "source": [
        "#Création de la base de données COLMAP"
      ],
      "metadata": {
        "id": "bI4267mKXy58"
      }
    },
    {
      "cell_type": "code",
      "source": [
        "!colmap database_creator \\\n",
        "    --database_path /content/my_colmap_data/database.db"
      ],
      "metadata": {
        "id": "40jGVaWJOwWk"
      },
      "execution_count": null,
      "outputs": []
    },
    {
      "cell_type": "code",
      "source": [
        "!ls /content/my_colmap_data\n",
        "!database.db"
      ],
      "metadata": {
        "id": "JjaDBzLOOwRV"
      },
      "execution_count": null,
      "outputs": []
    },
    {
      "cell_type": "code",
      "source": [
        "!ls /content/images"
      ],
      "metadata": {
        "id": "gKbn8XV2Ov-I"
      },
      "execution_count": null,
      "outputs": []
    },
    {
      "cell_type": "code",
      "source": [
        "!mkdir -p /content/images"
      ],
      "metadata": {
        "id": "D-3Qd_9dQAq1"
      },
      "execution_count": null,
      "outputs": []
    },
    {
      "cell_type": "code",
      "source": [
        "!colmap feature_extractor \\\n",
        "    --database_path /content/my_colmap_data/database.db \\\n",
        "    --image_path /content/images \\\n",
        "    --SiftExtraction.num_threads 4"
      ],
      "metadata": {
        "id": "mJd6WTQbQKhv"
      },
      "execution_count": null,
      "outputs": []
    },
    {
      "cell_type": "code",
      "source": [
        "!ls /content/images"
      ],
      "metadata": {
        "id": "PQxMbehXQKam"
      },
      "execution_count": null,
      "outputs": []
    },
    {
      "cell_type": "markdown",
      "source": [
        "# error"
      ],
      "metadata": {
        "id": "7kFG79SoQk2y"
      }
    },
    {
      "cell_type": "code",
      "source": [
        "!cp /content/drive/MyDrive/Colab Notebooks/silica-20240128T220044Z-001/silica/images/* /content/images/"
      ],
      "metadata": {
        "id": "D__x5eUYQKVp"
      },
      "execution_count": null,
      "outputs": []
    },
    {
      "cell_type": "markdown",
      "source": [
        "# error"
      ],
      "metadata": {
        "id": "9wIakOMeQ2cS"
      }
    },
    {
      "cell_type": "code",
      "source": [
        "!cp /content/drive/MyDrive/Colab Notebooks/silica-20240128T220044Z-001/silica/images/* /content/images/"
      ],
      "metadata": {
        "id": "UBAS-CmKQKOZ"
      },
      "execution_count": null,
      "outputs": []
    },
    {
      "cell_type": "markdown",
      "source": [
        "#Copier les images dans le répertoire dédié"
      ],
      "metadata": {
        "id": "dkF7SeXTYzDT"
      }
    },
    {
      "cell_type": "code",
      "source": [
        "!cp \"/content/drive/MyDrive/Colab Notebooks/silica-20240128T220044Z-001/silica/images/\"* /content/images/"
      ],
      "metadata": {
        "id": "OGjwst7VQl43"
      },
      "execution_count": null,
      "outputs": []
    },
    {
      "cell_type": "markdown",
      "source": [
        "#liste les images pour vérification d'emplacement"
      ],
      "metadata": {
        "id": "UkIPNf_FY1Pi"
      }
    },
    {
      "cell_type": "code",
      "source": [
        "!ls /content/images"
      ],
      "metadata": {
        "id": "fpHxXD5WQme_"
      },
      "execution_count": null,
      "outputs": []
    },
    {
      "cell_type": "markdown",
      "source": [
        "#Extraction des SIFT ddes images:\n",
        "Exécute l’extraction SIFT avec 4 threads pour accélérer le traitement."
      ],
      "metadata": {
        "id": "Km6cAIPLYJmI"
      }
    },
    {
      "cell_type": "code",
      "source": [
        "!colmap feature_extractor \\\n",
        "    --database_path /content/my_colmap_data/database.db \\\n",
        "    --image_path /content/images \\\n",
        "    --SiftExtraction.num_threads 4"
      ],
      "metadata": {
        "id": "UZhzR8iMQmX5"
      },
      "execution_count": null,
      "outputs": []
    },
    {
      "cell_type": "markdown",
      "source": [
        "#sauvegarde de la base de donnée"
      ],
      "metadata": {
        "id": "0z3DsUF6gv1_"
      }
    },
    {
      "cell_type": "code",
      "source": [
        "!cp \"/content/my_colmap_data/database.db \" * \"/content/backups/database_step1.db\""
      ],
      "metadata": {
        "id": "4M9yfYDqgPi_"
      },
      "execution_count": null,
      "outputs": []
    },
    {
      "cell_type": "code",
      "source": [
        "!ls -lh /content/my_colmap_data"
      ],
      "metadata": {
        "id": "v7PiD2imQ-u0"
      },
      "execution_count": null,
      "outputs": []
    },
    {
      "cell_type": "markdown",
      "source": [
        "#Appairiement des features:\n",
        "Ceci recherche toutes les correspondances entre les images en utilisant 4 threads."
      ],
      "metadata": {
        "id": "-fP-DK34W7YH"
      }
    },
    {
      "cell_type": "code",
      "source": [
        "!colmap exhaustive_matcher \\\n",
        "    --database_path /content/my_colmap_data/database.db \\\n",
        "    --SiftMatching.num_threads 4"
      ],
      "metadata": {
        "id": "nEmmXtSuQ-m7"
      },
      "execution_count": null,
      "outputs": []
    },
    {
      "cell_type": "markdown",
      "source": [
        "#sauvegarde de la base de donnée"
      ],
      "metadata": {
        "id": "PTzU7Io-g6KZ"
      }
    },
    {
      "cell_type": "code",
      "source": [
        "!cp \"/content/my_colmap_data/database.db \" * \"/content/backups/database_step2.db\"\n",
        "!cp \"/content/my_colmap_data/sparse \" * \"/content/backups/sparse_step1\"\n"
      ],
      "metadata": {
        "id": "FDnQG3q5g6KZ"
      },
      "execution_count": null,
      "outputs": []
    },
    {
      "cell_type": "markdown",
      "source": [
        "#Cette étape génère une reconstruction sparse en établissant les positions relatives des caméras et les points 3D initiaux."
      ],
      "metadata": {
        "id": "bv_-h7iUWtAC"
      }
    },
    {
      "cell_type": "code",
      "source": [
        "!mkdir -p /content/my_colmap_data/sparse\n",
        "\n",
        "!colmap mapper \\\n",
        "    --database_path /content/my_colmap_data/database.db \\\n",
        "    --image_path /content/images \\\n",
        "    --output_path /content/my_colmap_data/sparse/ \\\n",
        "    --Mapper.init_min_tri_angle 4"
      ],
      "metadata": {
        "id": "7ztt5JyPRX3x"
      },
      "execution_count": null,
      "outputs": []
    },
    {
      "cell_type": "markdown",
      "source": [
        "#sauvegarde de la base de donnée"
      ],
      "metadata": {
        "id": "yZJYvLN1hGMp"
      }
    },
    {
      "cell_type": "code",
      "source": [
        "!cp \"/content/my_colmap_data/database.db \" * \"/content/backups/database_step3.db\"\n",
        "!cp \"/content/my_colmap_data/sparse \" * \"/content/backups/sparse_step2\""
      ],
      "metadata": {
        "id": "fY-y9YREhGMq"
      },
      "execution_count": null,
      "outputs": []
    },
    {
      "cell_type": "markdown",
      "source": [
        "#Undistortion:\n",
        "#Préparer les images pour la reconstruction dense"
      ],
      "metadata": {
        "id": "uPtdQCRCRtzc"
      }
    },
    {
      "cell_type": "code",
      "source": [
        "!mkdir -p /content/my_colmap_data/dense\n",
        "\n",
        "!colmap image_undistorter \\\n",
        "    --image_path /content/images \\\n",
        "    --input_path /content/my_colmap_data/sparse/0 \\\n",
        "    --output_path /content/my_colmap_data/dense \\\n",
        "    --output_type COLMAP"
      ],
      "metadata": {
        "id": "3exA92RBRXuG"
      },
      "execution_count": null,
      "outputs": []
    },
    {
      "cell_type": "markdown",
      "source": [
        "#sauvegarde de la base de donnée"
      ],
      "metadata": {
        "id": "Sl8JWn7-ikJn"
      }
    },
    {
      "cell_type": "code",
      "source": [
        "!cp \"/content/my_colmap_data/database.db \" * \"/content/backups/database_step4.db\"\n",
        "!cp \"/content/my_colmap_data/sparse \" * \"/content/backups/sparse_step3\""
      ],
      "metadata": {
        "id": "dRL_Ivi7ikJo"
      },
      "execution_count": null,
      "outputs": []
    },
    {
      "cell_type": "markdown",
      "source": [
        "#création des images corrigées prêtes pour la reconstruction\n",
        "#patch_match_stereo :\n",
        "#Reconstruire le nuage de points dense\n"
      ],
      "metadata": {
        "id": "M9HdRak9SAWF"
      }
    },
    {
      "cell_type": "code",
      "source": [
        "!colmap patch_match_stereo \\\n",
        "    --workspace_path /content/my_colmap_data/dense \\\n",
        "    --workspace_format COLMAP \\\n",
        "    --PatchMatchStereo.geom_consistency true"
      ],
      "metadata": {
        "id": "GfC4FqsKRXmH"
      },
      "execution_count": null,
      "outputs": []
    },
    {
      "cell_type": "markdown",
      "source": [
        "#sauvegarde de la base de donnée"
      ],
      "metadata": {
        "id": "blTxRxmHiz5y"
      }
    },
    {
      "cell_type": "code",
      "source": [
        "!cp \"/content/my_colmap_data/database.db \" * \"/content/backups/database_step5.db\"\n",
        "!cp \"/content/my_colmap_data/sparse \" * \"/content/backups/sparse_ste4\""
      ],
      "metadata": {
        "id": "_ZHwud7Yiz5z"
      },
      "execution_count": null,
      "outputs": []
    },
    {
      "cell_type": "markdown",
      "source": [
        "#stereo_fusion :\n",
        "#Fusionner le nuage de points dense"
      ],
      "metadata": {
        "id": "znIP3WvlSi96"
      }
    },
    {
      "cell_type": "code",
      "source": [
        "colmap stereo_fusion \\\n",
        "    --workspace_path /content/my_colmap_data/dense \\\n",
        "    --workspace_format COLMAP \\\n",
        "    --input_type geometric \\\n",
        "    --output_path /content/my_colmap_data/dense/fused.ply"
      ],
      "metadata": {
        "id": "ACb39IAvRXc5"
      },
      "execution_count": null,
      "outputs": []
    },
    {
      "cell_type": "markdown",
      "source": [
        "#sauvegarde de la base de donnée"
      ],
      "metadata": {
        "id": "IZ27tL6mjSD7"
      }
    },
    {
      "cell_type": "code",
      "source": [
        "!cp \"/content/my_colmap_data/database.db \" * \"/content/backups/database_step6.db\"\n",
        "!cp \"/content/my_colmap_data/sparse \" * \"/content/backups/sparse_ste5\""
      ],
      "metadata": {
        "id": "U1tqATo3jSD7"
      },
      "execution_count": null,
      "outputs": []
    },
    {
      "cell_type": "markdown",
      "source": [
        "#Poisson ou Delaunay Mesher :\n",
        "#Maillage et rendu final"
      ],
      "metadata": {
        "id": "d7PPnt08USOl"
      }
    },
    {
      "cell_type": "code",
      "source": [
        "colmap poisson_mesher \\\n",
        "    --input_path /content/my_colmap_data/dense/fused.ply \\\n",
        "    --output_path /content/my_colmap_data/dense/meshed-poisson.ply"
      ],
      "metadata": {
        "id": "Lre3pfrPR7P4"
      },
      "execution_count": null,
      "outputs": []
    },
    {
      "cell_type": "markdown",
      "source": [
        "#sauvegarde de la base de donnée"
      ],
      "metadata": {
        "id": "Jnn5U2eJjWaz"
      }
    },
    {
      "cell_type": "code",
      "source": [
        "!cp \"/content/my_colmap_data/database.db \" * \"/content/backups/database_step7.db\"\n",
        "!cp \"/content/my_colmap_data/sparse \" * \"/content/backups/sparse_st6\""
      ],
      "metadata": {
        "id": "ftYJ30iijWaz"
      },
      "execution_count": null,
      "outputs": []
    },
    {
      "cell_type": "markdown",
      "source": [
        "#optionnel"
      ],
      "metadata": {
        "id": "nm-EW5B5U6qG"
      }
    },
    {
      "cell_type": "code",
      "source": [
        "colmap delaunay_mesher \\\n",
        "    --input_path /content/my_colmap_data/dense \\\n",
        "    --output_path /content/my_colmap_data/dense/meshed-delaunay.ply"
      ],
      "metadata": {
        "id": "w4X6OjYYSDfZ"
      },
      "execution_count": null,
      "outputs": []
    },
    {
      "cell_type": "markdown",
      "source": [
        "#sauvegarde de la base de donnée"
      ],
      "metadata": {
        "id": "_3HGQmd6jiiV"
      }
    },
    {
      "cell_type": "code",
      "source": [
        "!cp \"/content/my_colmap_data/database.db \" * \"/content/backups/database_step8.db\"\n",
        "!cp \"/content/my_colmap_data/sparse \" * \"/content/backups/sparse_ste7\""
      ],
      "metadata": {
        "id": "PYYHLTmCjiiW"
      },
      "execution_count": null,
      "outputs": []
    },
    {
      "cell_type": "markdown",
      "source": [
        "# **Pour améliorer le rendu de la reconstruction, on peut agir sur plusieurs paramètres importants** :\n",
        "\n",
        "  # **1- Contrôle des points-clés détectés **: en augmentant ou diminuant la taille de --SiftExtraction.peak_threshold et --SiftExtraction.edge_threshold,\n",
        "\n",
        "  # *Impact : Un seuil plus bas détectera plus de points, améliorant la correspondance dans les zones peu texturées, mais peut augmenter le bruit. Un seuil plus élevé réduira le nombre de points détectés, rendant l’appariement plus précis mais potentiellement moins dense.*\n",
        "\n",
        "# **2- Paramètres d’appariement (matcher)**:\n",
        "#Distance de correspondance : ajuster --SiftMatching.max_error peut améliorer les correspondances en filtrant les mauvaises paires.\n",
        "\n",
        "# * Impact : Des seuils stricts réduisent les fausses correspondances mais risquent de perdre des paires valides. Des seuils plus tolérants augmentent la densité de correspondances, parfois au détriment de la qualité.*\n",
        "\n",
        "# **3- PatchMatch**: Réglage des fenêtres : des paramètres comme --PatchMatchStereo.window_radius influencent la qualité de la reconstruction dense.\n",
        "\n",
        "# *impact: Une fenêtre plus large peut capturer plus de contexte et produire des surfaces plus douces, mais risque de lisser trop les détails. Une fenêtre plus petite offre plus de précision dans les détails mais peut augmenter le bruit ou les artefacts.*\n",
        "\n",
        "# **4- Paramètres de géométrie**: Triangulation : jouez sur --Mapper.tri_min_angle pour éviter les triangles trop plats dans la reconstruction.\n",
        "\n",
        "# *Impact : Des valeurs trop faibles peuvent générer des reconstructions imprécises avec des zones floues. Des valeurs trop élevées risquent de filtrer trop de points, réduisant la densité.*\n"
      ],
      "metadata": {
        "id": "AL-QwNN4ka2K"
      }
    }
  ]
}